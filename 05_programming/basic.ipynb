{
 "cells": [
  {
   "cell_type": "code",
   "execution_count": 1,
   "id": "25838958",
   "metadata": {},
   "outputs": [
    {
     "name": "stdout",
     "output_type": "stream",
     "text": [
      "3科目の平均点は 83.33333333333333 点です\n"
     ]
    }
   ],
   "source": [
    "# 各科目の点数を変数として定義\n",
    "japanese = 85  # 国語\n",
    "math = 90      # 数学\n",
    "english = 75   # 英語\n",
    "\n",
    "# 平均点を計算\n",
    "average = (japanese + math + english) / 3\n",
    "\n",
    "# 結果を表示\n",
    "print(\"3科目の平均点は\", average, \"点です\")"
   ]
  },
  {
   "cell_type": "code",
   "execution_count": 2,
   "id": "be7d6137",
   "metadata": {},
   "outputs": [
    {
     "name": "stdout",
     "output_type": "stream",
     "text": [
      "5\n"
     ]
    }
   ],
   "source": [
    "a = 10\n",
    "b = -5\n",
    "c = 0\n",
    "print(a + b)  # 5"
   ]
  },
  {
   "cell_type": "code",
   "execution_count": 3,
   "id": "c0cca4a8",
   "metadata": {},
   "outputs": [
    {
     "name": "stdout",
     "output_type": "stream",
     "text": [
      "3.3333333333333335\n",
      "3\n"
     ]
    }
   ],
   "source": [
    "print(10 / 3)   # 3.3333333\n",
    "print(10 // 3)  # 3"
   ]
  },
  {
   "cell_type": "code",
   "execution_count": 4,
   "id": "c37891b3",
   "metadata": {},
   "outputs": [
    {
     "name": "stdout",
     "output_type": "stream",
     "text": [
      "0.30000000000000004\n"
     ]
    }
   ],
   "source": [
    "x = 3.14\n",
    "y = 0.1 + 0.2  # 浮動小数点誤差\n",
    "print(y)  # 0.30000000000000004"
   ]
  },
  {
   "cell_type": "code",
   "execution_count": 5,
   "id": "c5a02365",
   "metadata": {},
   "outputs": [
    {
     "name": "stdout",
     "output_type": "stream",
     "text": [
      "(1+3.5j)\n"
     ]
    }
   ],
   "source": [
    "c = 2 + 3j\n",
    "d = -1 + 0.5j\n",
    "print(c + d)  # (1+3.5j)"
   ]
  },
  {
   "cell_type": "code",
   "execution_count": 6,
   "id": "ec2192cd",
   "metadata": {},
   "outputs": [
    {
     "name": "stdout",
     "output_type": "stream",
     "text": [
      "Hello, World!\n"
     ]
    }
   ],
   "source": [
    "text = \"Hello, World!\"\n",
    "print(text)"
   ]
  },
  {
   "cell_type": "code",
   "execution_count": 7,
   "id": "0b136ba2",
   "metadata": {},
   "outputs": [
    {
     "name": "stdout",
     "output_type": "stream",
     "text": [
      "PYTHON\n",
      "python\n"
     ]
    }
   ],
   "source": [
    "text = \"Python\"\n",
    "print(text.upper())  # 'PYTHON'\n",
    "print(text.lower())  # 'python'"
   ]
  },
  {
   "cell_type": "code",
   "execution_count": 8,
   "id": "4e5b2d90",
   "metadata": {},
   "outputs": [
    {
     "name": "stdout",
     "output_type": "stream",
     "text": [
      "True\n",
      "False\n"
     ]
    }
   ],
   "source": [
    "a = 5\n",
    "b = 10\n",
    "print(a < b)  # True\n",
    "print(a == b)  # False"
   ]
  },
  {
   "cell_type": "code",
   "execution_count": 9,
   "id": "fc0a034a",
   "metadata": {},
   "outputs": [
    {
     "name": "stdout",
     "output_type": "stream",
     "text": [
      "None\n"
     ]
    }
   ],
   "source": [
    "x = None\n",
    "print(x)  # None"
   ]
  },
  {
   "cell_type": "code",
   "execution_count": 10,
   "id": "5e1c9061",
   "metadata": {},
   "outputs": [
    {
     "name": "stdout",
     "output_type": "stream",
     "text": [
      "加算: 13\n",
      "割算: 3.3333333333333335\n",
      "累乗: 1000\n"
     ]
    }
   ],
   "source": [
    "a = 10\n",
    "b = 3\n",
    "print(\"加算:\", a + b)  # 13\n",
    "print(\"割算:\", a / b)  # 3.3333...\n",
    "print(\"累乗:\", a ** b)  # 1000"
   ]
  },
  {
   "cell_type": "code",
   "execution_count": 11,
   "id": "cecee376",
   "metadata": {},
   "outputs": [
    {
     "name": "stdout",
     "output_type": "stream",
     "text": [
      "x += 5: 15\n",
      "x *= 2: 30\n"
     ]
    }
   ],
   "source": [
    "x = 10\n",
    "x += 5\n",
    "print(\"x += 5:\", x)  # 15\n",
    "x *= 2\n",
    "print(\"x *= 2:\", x)  # 30"
   ]
  },
  {
   "cell_type": "code",
   "execution_count": 12,
   "id": "d6980598",
   "metadata": {},
   "outputs": [
    {
     "name": "stdout",
     "output_type": "stream",
     "text": [
      "a > b: True\n",
      "a == b: False\n"
     ]
    }
   ],
   "source": [
    "a = 10\n",
    "b = 5\n",
    "print(\"a > b:\", a > b)  # True\n",
    "print(\"a == b:\", a == b)  # False"
   ]
  },
  {
   "cell_type": "code",
   "execution_count": 13,
   "id": "956347eb",
   "metadata": {},
   "outputs": [
    {
     "name": "stdout",
     "output_type": "stream",
     "text": [
      "100 < x < 200: True\n"
     ]
    }
   ],
   "source": [
    "x = 150\n",
    "print(\"100 < x < 200:\", 100 < x < 200)  # True"
   ]
  },
  {
   "cell_type": "code",
   "execution_count": 14,
   "id": "9a106427",
   "metadata": {},
   "outputs": [
    {
     "name": "stdout",
     "output_type": "stream",
     "text": [
      "10 < x and x < 20: True\n",
      "not (x == 15): False\n"
     ]
    }
   ],
   "source": [
    "x = 15\n",
    "print(\"10 < x and x < 20:\", 10 < x and x < 20)  # True\n",
    "print(\"not (x == 15):\", not (x == 15))  # False"
   ]
  },
  {
   "cell_type": "code",
   "execution_count": 15,
   "id": "498db014",
   "metadata": {},
   "outputs": [
    {
     "name": "stdout",
     "output_type": "stream",
     "text": [
      "a & b: 0b1000\n",
      "a << 1: 0b11000\n"
     ]
    }
   ],
   "source": [
    "a = 0b1100  # 12\n",
    "b = 0b1010  # 10\n",
    "print(\"a & b:\", bin(a & b))  # 0b1000\n",
    "print(\"a << 1:\", bin(a << 1))  # 0b11000"
   ]
  },
  {
   "cell_type": "code",
   "execution_count": 17,
   "id": "d901bca2",
   "metadata": {},
   "outputs": [
    {
     "name": "stdout",
     "output_type": "stream",
     "text": [
      "処理を終了します\n"
     ]
    }
   ],
   "source": [
    "score = int(input(\"点数を入力してください: \"))\n",
    "\n",
    "if score >= 60:\n",
    "    print(\"合格です\")\n",
    "\n",
    "print(\"処理を終了します\")"
   ]
  },
  {
   "cell_type": "code",
   "execution_count": 19,
   "id": "301fb8e8",
   "metadata": {},
   "outputs": [
    {
     "name": "stdout",
     "output_type": "stream",
     "text": [
      "不合格です\n",
      "もっとがんばりましょう\n",
      "処理を終了します\n"
     ]
    }
   ],
   "source": [
    "score = int(input(\"点数を入力してください: \"))\n",
    "\n",
    "if score >= 60:\n",
    "    print(\"合格です\")\n",
    "    print(\"おめでとうございます！\")\n",
    "else:\n",
    "    print(\"不合格です\")\n",
    "    print(\"もっとがんばりましょう\")\n",
    "\n",
    "print(\"処理を終了します\")"
   ]
  },
  {
   "cell_type": "code",
   "execution_count": 22,
   "id": "b999e084",
   "metadata": {},
   "outputs": [
    {
     "name": "stdout",
     "output_type": "stream",
     "text": [
      "優秀です\n",
      "大変よくできました！\n",
      "処理を終了します\n"
     ]
    }
   ],
   "source": [
    "score = int(input(\"点数を入力してください: \"))\n",
    "\n",
    "if score >= 90:\n",
    "    print(\"優秀です\")\n",
    "    print(\"大変よくできました！\")\n",
    "elif score >= 60:\n",
    "    print(\"合格です\")\n",
    "    print(\"おめでとうございます！\")\n",
    "else:\n",
    "    print(\"不合格です\")\n",
    "    print(\"もっとがんばりましょう\")\n",
    "\n",
    "print(\"処理を終了します\")"
   ]
  },
  {
   "cell_type": "code",
   "execution_count": 23,
   "id": "9c422f0a",
   "metadata": {},
   "outputs": [
    {
     "name": "stdout",
     "output_type": "stream",
     "text": [
      "0\n",
      "1\n",
      "2\n",
      "3\n",
      "4\n",
      "5\n",
      "6\n",
      "7\n",
      "8\n",
      "9\n",
      "10\n"
     ]
    }
   ],
   "source": [
    "for i in range(11):\n",
    "    print(i)"
   ]
  },
  {
   "cell_type": "code",
   "execution_count": 24,
   "id": "32866209",
   "metadata": {},
   "outputs": [
    {
     "name": "stdout",
     "output_type": "stream",
     "text": [
      "2\n",
      "4\n",
      "6\n",
      "8\n",
      "10\n",
      "12\n",
      "14\n",
      "16\n",
      "18\n",
      "20\n"
     ]
    }
   ],
   "source": [
    "for i in range(2, 21, 2):\n",
    "    print(i)"
   ]
  },
  {
   "cell_type": "code",
   "execution_count": 25,
   "id": "594c5464",
   "metadata": {},
   "outputs": [
    {
     "name": "stdout",
     "output_type": "stream",
     "text": [
      "1\n",
      "2\n",
      "3\n",
      "4\n",
      "5\n",
      "6\n",
      "7\n",
      "8\n",
      "9\n",
      "10\n",
      "処理を終了します\n"
     ]
    }
   ],
   "source": [
    "i = 0\n",
    "while i < 10:\n",
    "    i += 1\n",
    "    print(i)\n",
    "\n",
    "print(\"処理を終了します\")"
   ]
  },
  {
   "cell_type": "code",
   "execution_count": 26,
   "id": "a0720de9",
   "metadata": {},
   "outputs": [
    {
     "name": "stdout",
     "output_type": "stream",
     "text": [
      "1\n",
      "2\n",
      "3\n",
      "4\n",
      "5\n",
      "6\n",
      "7\n",
      "8\n",
      "9\n",
      "10\n",
      "処理を終了します\n"
     ]
    }
   ],
   "source": [
    "i = 0\n",
    "while True:\n",
    "    i += 1\n",
    "    if i > 10:\n",
    "        break\n",
    "    print(i)\n",
    "\n",
    "print(\"処理を終了します\")"
   ]
  },
  {
   "cell_type": "code",
   "execution_count": 27,
   "id": "92e5a45f",
   "metadata": {},
   "outputs": [
    {
     "name": "stdout",
     "output_type": "stream",
     "text": [
      "2\n",
      "4\n",
      "6\n",
      "8\n",
      "10\n",
      "処理を終了します\n"
     ]
    }
   ],
   "source": [
    "i = 0\n",
    "while True:\n",
    "    i += 1\n",
    "    if i > 10:\n",
    "        break\n",
    "    if i % 2 == 1:\n",
    "        continue\n",
    "    print(i)\n",
    "\n",
    "print(\"処理を終了します\")"
   ]
  },
  {
   "cell_type": "code",
   "execution_count": 28,
   "id": "3c4e5ec4",
   "metadata": {},
   "outputs": [
    {
     "ename": "ValueError",
     "evalue": "invalid literal for int() with base 10: 'z'",
     "output_type": "error",
     "traceback": [
      "\u001b[31m---------------------------------------------------------------------------\u001b[39m",
      "\u001b[31mValueError\u001b[39m                                Traceback (most recent call last)",
      "\u001b[36mCell\u001b[39m\u001b[36m \u001b[39m\u001b[32mIn[28]\u001b[39m\u001b[32m, line 1\u001b[39m\n\u001b[32m----> \u001b[39m\u001b[32m1\u001b[39m score = \u001b[38;5;28;43mint\u001b[39;49m\u001b[43m(\u001b[49m\u001b[38;5;28;43minput\u001b[39;49m\u001b[43m(\u001b[49m\u001b[33;43m\"\u001b[39;49m\u001b[33;43m点数を入力してください: \u001b[39;49m\u001b[33;43m\"\u001b[39;49m\u001b[43m)\u001b[49m\u001b[43m)\u001b[49m\n",
      "\u001b[31mValueError\u001b[39m: invalid literal for int() with base 10: 'z'"
     ]
    }
   ],
   "source": [
    "score = int(input(\"点数を入力してください: \"))"
   ]
  },
  {
   "cell_type": "code",
   "execution_count": 31,
   "id": "85c27fac",
   "metadata": {},
   "outputs": [
    {
     "name": "stdout",
     "output_type": "stream",
     "text": [
      "エラー: 整数を入力してください\n"
     ]
    }
   ],
   "source": [
    "try:\n",
    "    # エラーが起こる可能性のある処理\n",
    "    num = int(input(\"整数を入力してください: \"))\n",
    "    result = 100 / num\n",
    "    print(f\"100 を {num} で割った結果は {result} です\")\n",
    "except ZeroDivisionError:\n",
    "    # 0 で割った場合のエラー処理\n",
    "    print(\"エラー: 0 で割ることはできません\")\n",
    "except ValueError:\n",
    "    # 数値以外を入力した場合のエラー処理\n",
    "    print(\"エラー: 整数を入力してください\")"
   ]
  },
  {
   "cell_type": "code",
   "execution_count": 34,
   "id": "4a6e6236",
   "metadata": {},
   "outputs": [
    {
     "name": "stdout",
     "output_type": "stream",
     "text": [
      "エラー: 整数を入力してください\n",
      "プログラム終了\n"
     ]
    }
   ],
   "source": [
    "try:\n",
    "    num = int(input(\"整数を入力してください: \"))\n",
    "    result = 100 / num\n",
    "except ZeroDivisionError:\n",
    "    print(\"エラー: 0 で割ることはできません\")\n",
    "except ValueError:\n",
    "    print(\"エラー: 整数を入力してください\")\n",
    "else:\n",
    "    print(f\"計算結果: {result}\")\n",
    "finally:\n",
    "    print(\"プログラム終了\")"
   ]
  },
  {
   "cell_type": "code",
   "execution_count": 35,
   "id": "06162307",
   "metadata": {},
   "outputs": [],
   "source": [
    "x = 10  # 数値型"
   ]
  },
  {
   "cell_type": "code",
   "execution_count": 36,
   "id": "8625afc7",
   "metadata": {},
   "outputs": [],
   "source": [
    "numbers = [1, 2, 3, 4, 5]  # リスト型"
   ]
  },
  {
   "cell_type": "code",
   "execution_count": 37,
   "id": "61921ebd",
   "metadata": {},
   "outputs": [],
   "source": [
    "s = \"abcdefghijklmnopqrstuvwxyz\""
   ]
  },
  {
   "cell_type": "code",
   "execution_count": 38,
   "id": "9f67473c",
   "metadata": {},
   "outputs": [
    {
     "name": "stdout",
     "output_type": "stream",
     "text": [
      "a\n",
      "z\n"
     ]
    }
   ],
   "source": [
    "s = \"abcdefghijklmnopqrstuvwxyz\"\n",
    "print(s[0])  # a（先頭）\n",
    "print(s[-1])  # z（末尾）"
   ]
  },
  {
   "cell_type": "code",
   "execution_count": 42,
   "id": "333fa8fe",
   "metadata": {},
   "outputs": [
    {
     "name": "stdout",
     "output_type": "stream",
     "text": [
      "abcdefg\n",
      "vwxyz\n",
      "zxvtrpnljhfdb\n"
     ]
    }
   ],
   "source": [
    "s = \"abcdefghijklmnopqrstuvwxyz\"\n",
    "print(s[0:7:1])    # abcdefg\n",
    "print(s[-5:])    # vwxyz\n",
    "print(s[::-2])    # acegikmoqsuwy（2個おき）"
   ]
  },
  {
   "cell_type": "code",
   "execution_count": 49,
   "id": "9d96a757",
   "metadata": {},
   "outputs": [
    {
     "name": "stdout",
     "output_type": "stream",
     "text": [
      "Y\n"
     ]
    }
   ],
   "source": [
    "s = \"TechAcademy\"\n",
    "char in s\n",
    "print(char.upper())  # 各文字を大文字に変換して表示"
   ]
  },
  {
   "cell_type": "code",
   "execution_count": 44,
   "id": "f993a57f",
   "metadata": {},
   "outputs": [
    {
     "name": "stdout",
     "output_type": "stream",
     "text": [
      "11\n"
     ]
    }
   ],
   "source": [
    "s = \"TechAcademy\"\n",
    "print(len(s))  # 11（文字列の長さ）"
   ]
  },
  {
   "cell_type": "code",
   "execution_count": 57,
   "id": "019137fd",
   "metadata": {},
   "outputs": [
    {
     "name": "stdout",
     "output_type": "stream",
     "text": [
      "T\n",
      "E\n",
      "C\n",
      "H\n",
      "A\n",
      "C\n",
      "A\n",
      "D\n",
      "E\n",
      "M\n",
      "Y\n"
     ]
    }
   ],
   "source": [
    "s = \"TechAcademy\"\n",
    "for char in s:\n",
    "    print(char.upper())  # 各文字を大文字に変換して表示"
   ]
  },
  {
   "cell_type": "code",
   "execution_count": 58,
   "id": "79c47682",
   "metadata": {},
   "outputs": [
    {
     "name": "stdout",
     "output_type": "stream",
     "text": [
      "長い文字列です。\n"
     ]
    }
   ],
   "source": [
    "if len(s) > 10:\n",
    "    print(\"長い文字列です。\")"
   ]
  },
  {
   "cell_type": "code",
   "execution_count": 59,
   "id": "e8dbaa87",
   "metadata": {},
   "outputs": [
    {
     "name": "stdout",
     "output_type": "stream",
     "text": [
      "「にんてんどううどんてんに」は回文です！\n"
     ]
    }
   ],
   "source": [
    "s = \"にんてんどううどんてんに\"\n",
    "if s == s[::-1]:\n",
    "    print(f\"「{s}」は回文です！\")\n",
    "else:\n",
    "    print(f\"「{s}」は回文ではありません。\")"
   ]
  },
  {
   "cell_type": "code",
   "execution_count": 60,
   "id": "918be550",
   "metadata": {},
   "outputs": [
    {
     "name": "stdout",
     "output_type": "stream",
     "text": [
      "[1, 2, 3, 4, 5] ['apple', 'banana', 'cherry'] [1, 'apple', 3.14, True] []\n"
     ]
    }
   ],
   "source": [
    "numbers = [1, 2, 3, 4, 5]\n",
    "fruits = [\"apple\", \"banana\", \"cherry\"]\n",
    "mixed = [1, \"apple\", 3.14, True]\n",
    "empty_list = []\n",
    "\n",
    "print(numbers, fruits, mixed, empty_list)"
   ]
  },
  {
   "cell_type": "code",
   "execution_count": 61,
   "id": "6367f972",
   "metadata": {},
   "outputs": [
    {
     "name": "stdout",
     "output_type": "stream",
     "text": [
      "['h', 'e', 'l', 'l', 'o'] [1, 2, 3] [0, 1, 2, 3, 4]\n"
     ]
    }
   ],
   "source": [
    "string_to_list = list(\"hello\")\n",
    "tuple_to_list = list((1, 2, 3))\n",
    "range_to_list = list(range(5))\n",
    "\n",
    "print(string_to_list, tuple_to_list, range_to_list)"
   ]
  },
  {
   "cell_type": "code",
   "execution_count": 62,
   "id": "e1af7c5b",
   "metadata": {},
   "outputs": [
    {
     "name": "stdout",
     "output_type": "stream",
     "text": [
      "[None, None, None, None, None] [0, 0, 0, 0, 0, 0, 0, 0, 0, 0]\n"
     ]
    }
   ],
   "source": [
    "none_list = [None] * 5\n",
    "zeros = [0] * 10\n",
    "\n",
    "print(none_list, zeros)"
   ]
  },
  {
   "cell_type": "code",
   "execution_count": 63,
   "id": "35622536",
   "metadata": {},
   "outputs": [
    {
     "name": "stdout",
     "output_type": "stream",
     "text": [
      "[1, 2, 3] [1, 2, 3] [1, 2, 3]\n"
     ]
    }
   ],
   "source": [
    "original = [1, 2, 3]\n",
    "copy1 = original[:]\n",
    "copy2 = list(original)\n",
    "copy3 = original.copy()\n",
    "\n",
    "print(copy1, copy2, copy3)"
   ]
  },
  {
   "cell_type": "code",
   "execution_count": 64,
   "id": "85bf49fe",
   "metadata": {},
   "outputs": [
    {
     "name": "stdout",
     "output_type": "stream",
     "text": [
      "apple cherry\n",
      "['apple', 'orange', 'cherry']\n"
     ]
    }
   ],
   "source": [
    "fruits = [\"apple\", \"banana\", \"cherry\"]\n",
    "print(fruits[0], fruits[-1])  # apple, cherry\n",
    "fruits[1] = \"orange\"          # 要素の変更\n",
    "print(fruits)                 # ['apple', 'orange', 'cherry']"
   ]
  },
  {
   "cell_type": "code",
   "execution_count": 65,
   "id": "815cf765",
   "metadata": {},
   "outputs": [
    {
     "name": "stdout",
     "output_type": "stream",
     "text": [
      "[1, 2] [0, 1, 2] [2, 3, 4, 5] [5, 4, 3, 2, 1, 0]\n"
     ]
    }
   ],
   "source": [
    "numbers = [0, 1, 2, 3, 4, 5]\n",
    "print(numbers[1:3], numbers[:3], numbers[2:], numbers[::-1])"
   ]
  },
  {
   "cell_type": "code",
   "execution_count": 66,
   "id": "eff78e89",
   "metadata": {},
   "outputs": [
    {
     "name": "stdout",
     "output_type": "stream",
     "text": [
      "['apple', 'grape', 'orange', 'cherry', 'mango', 'kiwi', 'pear']\n"
     ]
    }
   ],
   "source": [
    "fruits.append(\"mango\")\n",
    "fruits.insert(1, \"grape\")\n",
    "fruits.extend([\"kiwi\", \"pear\"])\n",
    "print(fruits)\n"
   ]
  },
  {
   "cell_type": "code",
   "execution_count": 67,
   "id": "4abf82c4",
   "metadata": {},
   "outputs": [],
   "source": [
    "fruits.pop(1)       # インデックス1の要素を削除\n",
    "fruits.remove(\"kiwi\")  # 指定値を削除\n",
    "del fruits[0]       # インデックス0を削除\n",
    "fruits.clear()      # 全削除"
   ]
  },
  {
   "cell_type": "code",
   "execution_count": 68,
   "id": "f3fab6e7",
   "metadata": {},
   "outputs": [
    {
     "name": "stdout",
     "output_type": "stream",
     "text": [
      "[1, 2, 3, 4, 5, 6] [1, 2, 3, 4, 5, 6]\n"
     ]
    }
   ],
   "source": [
    "list1 = [1, 2, 3]\n",
    "list2 = [4, 5, 6]\n",
    "combined = list1 + list2\n",
    "list1.extend(list2)\n",
    "\n",
    "print(combined, list1)"
   ]
  },
  {
   "cell_type": "code",
   "execution_count": 69,
   "id": "52b79a62",
   "metadata": {},
   "outputs": [
    {
     "name": "stdout",
     "output_type": "stream",
     "text": [
      "2は存在するか: True\n",
      "2の出現回数: 3\n",
      "2の最初の位置: 1\n"
     ]
    }
   ],
   "source": [
    "numbers = [1, 2, 3, 2, 4, 2]\n",
    "print(\"2は存在するか:\", 2 in numbers)  # True\n",
    "print(\"2の出現回数:\", numbers.count(2))  # 3\n",
    "print(\"2の最初の位置:\", numbers.index(2))  # 1"
   ]
  },
  {
   "cell_type": "code",
   "execution_count": 72,
   "id": "179a0322",
   "metadata": {},
   "outputs": [
    {
     "name": "stdout",
     "output_type": "stream",
     "text": [
      "[1, 1, 2, 3, 4, 5, 9]\n"
     ]
    },
    {
     "data": {
      "text/plain": [
       "(None,)"
      ]
     },
     "execution_count": 72,
     "metadata": {},
     "output_type": "execute_result"
    }
   ],
   "source": [
    "numbers = [3, 1, 4, 1, 5, 9, 2]\n",
    "numbers.sort()\n",
    "#sorted_numbers = sorted(numbers, reverse=True)\n",
    "\n",
    "print(numbers),# sorted_numbers)"
   ]
  },
  {
   "cell_type": "code",
   "execution_count": 73,
   "id": "f2df969a",
   "metadata": {},
   "outputs": [
    {
     "name": "stdout",
     "output_type": "stream",
     "text": [
      "[1, 1, 2, 3, 4, 5, 9] [9, 5, 4, 3, 2, 1, 1]\n"
     ]
    }
   ],
   "source": [
    "numbers = [3, 1, 4, 1, 5, 9, 2]\n",
    "numbers.sort()\n",
    "sorted_numbers = sorted(numbers, reverse=True)\n",
    "\n",
    "print(numbers, sorted_numbers)"
   ]
  },
  {
   "cell_type": "code",
   "execution_count": 74,
   "id": "85400370",
   "metadata": {},
   "outputs": [
    {
     "name": "stdout",
     "output_type": "stream",
     "text": [
      "[1, 4, 9, 16, 25]\n"
     ]
    }
   ],
   "source": [
    "squares = [x**2 for x in range(1, 6)]\n",
    "print(squares)  # [1, 4, 9, 16, 25]"
   ]
  },
  {
   "cell_type": "code",
   "execution_count": 75,
   "id": "9a38098b",
   "metadata": {},
   "outputs": [
    {
     "name": "stdout",
     "output_type": "stream",
     "text": [
      "[2, 4, 6, 8, 10]\n"
     ]
    }
   ],
   "source": [
    "even_numbers = [x for x in range(1, 11) if x % 2 == 0]\n",
    "print(even_numbers)  # [2, 4, 6, 8, 10]"
   ]
  },
  {
   "cell_type": "code",
   "execution_count": 76,
   "id": "e91e22e9",
   "metadata": {},
   "outputs": [
    {
     "name": "stdout",
     "output_type": "stream",
     "text": [
      "1 8\n"
     ]
    }
   ],
   "source": [
    "matrix = [\n",
    "    [1, 2, 3],\n",
    "    [4, 5, 6],\n",
    "    [7, 8, 9]\n",
    "]\n",
    "\n",
    "print(matrix[0][0], matrix[2][1])  # 1, 8"
   ]
  },
  {
   "cell_type": "code",
   "execution_count": 77,
   "id": "4c7a4b87",
   "metadata": {},
   "outputs": [
    {
     "name": "stdout",
     "output_type": "stream",
     "text": [
      "1 2 3 \n",
      "4 5 6 \n",
      "7 8 9 \n"
     ]
    }
   ],
   "source": [
    "for row in matrix:\n",
    "    for element in row:\n",
    "        print(element, end=\" \")\n",
    "    print()"
   ]
  },
  {
   "cell_type": "code",
   "execution_count": 78,
   "id": "57426b4b",
   "metadata": {},
   "outputs": [
    {
     "name": "stdout",
     "output_type": "stream",
     "text": [
      "[[1, 2, 3], [2, 4, 6], [3, 6, 9]]\n"
     ]
    }
   ],
   "source": [
    "matrix = [[i * j for j in range(1, 4)] for i in range(1, 4)]\n",
    "print(matrix)\n"
   ]
  },
  {
   "cell_type": "code",
   "execution_count": 79,
   "id": "c4b2ff3b",
   "metadata": {},
   "outputs": [
    {
     "name": "stdout",
     "output_type": "stream",
     "text": [
      "(1, 2, 3, 4, 5) ('apple', 'banana', 'cherry') (1, 'apple', 3.14, True) () (1,)\n"
     ]
    }
   ],
   "source": [
    "numbers = (1, 2, 3, 4, 5)\n",
    "fruits = (\"apple\", \"banana\", \"cherry\")\n",
    "mixed = (1, \"apple\", 3.14, True)\n",
    "empty_tuple = ()\n",
    "one_element_tuple = (1,)  # 要素1つの場合はカンマが必要\n",
    "\n",
    "print(numbers, fruits, mixed, empty_tuple, one_element_tuple)"
   ]
  },
  {
   "cell_type": "code",
   "execution_count": 80,
   "id": "914cb0ce",
   "metadata": {},
   "outputs": [
    {
     "name": "stdout",
     "output_type": "stream",
     "text": [
      "('h', 'e', 'l', 'l', 'o') (1, 2, 3) (0, 1, 2, 3, 4)\n"
     ]
    }
   ],
   "source": [
    "string_to_tuple = tuple(\"hello\")\n",
    "list_to_tuple = tuple([1, 2, 3])\n",
    "range_to_tuple = tuple(range(5))\n",
    "\n",
    "print(string_to_tuple, list_to_tuple, range_to_tuple)"
   ]
  },
  {
   "cell_type": "code",
   "execution_count": 81,
   "id": "24a8cc8c",
   "metadata": {},
   "outputs": [
    {
     "name": "stdout",
     "output_type": "stream",
     "text": [
      "(None, None, None, None, None) (0, 0, 0, 0, 0, 0, 0, 0, 0, 0)\n"
     ]
    }
   ],
   "source": [
    "none_tuple = (None,) * 5\n",
    "zeros = (0,) * 10\n",
    "\n",
    "print(none_tuple, zeros)"
   ]
  },
  {
   "cell_type": "code",
   "execution_count": 82,
   "id": "563d63eb",
   "metadata": {},
   "outputs": [
    {
     "name": "stdout",
     "output_type": "stream",
     "text": [
      "(1, 2, 3) (4, 5, 6)\n"
     ]
    }
   ],
   "source": [
    "original_list = [1, 2, 3]\n",
    "copied_tuple = tuple(original_list)\n",
    "\n",
    "original_tuple = (4, 5, 6)\n",
    "copied_tuple2 = tuple(original_tuple)\n",
    "\n",
    "print(copied_tuple, copied_tuple2)"
   ]
  },
  {
   "cell_type": "code",
   "execution_count": 83,
   "id": "6137f192",
   "metadata": {},
   "outputs": [
    {
     "name": "stdout",
     "output_type": "stream",
     "text": [
      "apple\n",
      "cherry\n"
     ]
    }
   ],
   "source": [
    "fruits = (\"apple\", \"banana\", \"cherry\")\n",
    "print(fruits[0])  # apple\n",
    "print(fruits[-1]) # cherry"
   ]
  },
  {
   "cell_type": "code",
   "execution_count": 84,
   "id": "2afe01c0",
   "metadata": {},
   "outputs": [
    {
     "name": "stdout",
     "output_type": "stream",
     "text": [
      "(1, 2)\n",
      "(5, 4, 3, 2, 1, 0)\n"
     ]
    }
   ],
   "source": [
    "numbers = (0, 1, 2, 3, 4, 5)\n",
    "print(numbers[1:3])   # (1, 2)\n",
    "print(numbers[::-1])  # (5, 4, 3, 2, 1, 0)"
   ]
  },
  {
   "cell_type": "code",
   "execution_count": 85,
   "id": "cc45dd6c",
   "metadata": {},
   "outputs": [
    {
     "name": "stdout",
     "output_type": "stream",
     "text": [
      "True\n",
      "2\n"
     ]
    }
   ],
   "source": [
    "fruits = (\"apple\", \"banana\", \"cherry\")\n",
    "print(\"banana\" in fruits)      # True\n",
    "print(fruits.index(\"cherry\"))  # 2"
   ]
  },
  {
   "cell_type": "code",
   "execution_count": 86,
   "id": "1e02c6ef",
   "metadata": {},
   "outputs": [
    {
     "name": "stdout",
     "output_type": "stream",
     "text": [
      "3\n"
     ]
    }
   ],
   "source": [
    "numbers = (1, 2, 3, 2, 4, 2, 5)\n",
    "print(numbers.count(2))  # 3"
   ]
  },
  {
   "cell_type": "code",
   "execution_count": 87,
   "id": "1220de56",
   "metadata": {},
   "outputs": [
    {
     "name": "stdout",
     "output_type": "stream",
     "text": [
      "(1, 2, 3, 4, 5, 6)\n"
     ]
    }
   ],
   "source": [
    "tuple1 = (1, 2, 3)\n",
    "tuple2 = (4, 5, 6)\n",
    "combined_tuple = tuple1 + tuple2\n",
    "\n",
    "print(combined_tuple)  # (1, 2, 3, 4, 5, 6)"
   ]
  },
  {
   "cell_type": "code",
   "execution_count": 88,
   "id": "9db7b573",
   "metadata": {},
   "outputs": [
    {
     "name": "stdout",
     "output_type": "stream",
     "text": [
      "{'one': 1, 'two': 2, 'three': 3} {'name': 'Alice', 'age': 25, 'is_student': False} {}\n"
     ]
    }
   ],
   "source": [
    "numbers = {\"one\": 1, \"two\": 2, \"three\": 3}\n",
    "person = {\"name\": \"Alice\", \"age\": 25, \"is_student\": False}\n",
    "empty_dict = {}\n",
    "\n",
    "print(numbers, person, empty_dict)"
   ]
  },
  {
   "cell_type": "code",
   "execution_count": 89,
   "id": "6819606f",
   "metadata": {},
   "outputs": [
    {
     "name": "stdout",
     "output_type": "stream",
     "text": [
      "{'name': 'Bob', 'age': 30, 'is_student': True} {'apple': 100, 'banana': 200}\n"
     ]
    }
   ],
   "source": [
    "person = dict(name=\"Bob\", age=30, is_student=True)\n",
    "pairs = [(\"apple\", 100), (\"banana\", 200)]\n",
    "fruit_prices = dict(pairs)\n",
    "\n",
    "print(person, fruit_prices)"
   ]
  },
  {
   "cell_type": "code",
   "execution_count": 90,
   "id": "85e93374",
   "metadata": {},
   "outputs": [
    {
     "name": "stdout",
     "output_type": "stream",
     "text": [
      "{'key1': 0, 'key2': 0, 'key3': 0}\n"
     ]
    }
   ],
   "source": [
    "keys = [\"key1\", \"key2\", \"key3\"]\n",
    "default_dict = dict.fromkeys(keys, 0)\n",
    "\n",
    "print(default_dict)"
   ]
  },
  {
   "cell_type": "code",
   "execution_count": 91,
   "id": "0a836479",
   "metadata": {},
   "outputs": [
    {
     "name": "stdout",
     "output_type": "stream",
     "text": [
      "100\n",
      "{'apple': 100, 'banana': 250, 'cherry': 300}\n"
     ]
    }
   ],
   "source": [
    "fruit_prices = {\"apple\": 100, \"banana\": 200, \"cherry\": 300}\n",
    "print(fruit_prices[\"apple\"])  # 100\n",
    "\n",
    "# 値の更新\n",
    "fruit_prices[\"banana\"] = 250\n",
    "print(fruit_prices)"
   ]
  },
  {
   "cell_type": "code",
   "execution_count": 92,
   "id": "d6986abe",
   "metadata": {},
   "outputs": [
    {
     "name": "stdout",
     "output_type": "stream",
     "text": [
      "{'apple': 100, 'banana': 180, 'grape': 400}\n"
     ]
    }
   ],
   "source": [
    "fruit_prices = {\"apple\": 100, \"banana\": 200}\n",
    "fruit_prices[\"grape\"] = 400  # 新しい要素の追加\n",
    "fruit_prices[\"banana\"] = 180  # 値の変更\n",
    "\n",
    "print(fruit_prices)\n"
   ]
  },
  {
   "cell_type": "code",
   "execution_count": 93,
   "id": "58b39513",
   "metadata": {},
   "outputs": [
    {
     "name": "stdout",
     "output_type": "stream",
     "text": [
      "{} 200\n"
     ]
    }
   ],
   "source": [
    "fruit_prices = {\"apple\": 100, \"banana\": 200, \"cherry\": 300}\n",
    "\n",
    "del_price = fruit_prices.pop(\"banana\")\n",
    "del fruit_prices[\"cherry\"]\n",
    "fruit_prices.clear()\n",
    "\n",
    "print(fruit_prices, del_price)"
   ]
  },
  {
   "cell_type": "code",
   "execution_count": 94,
   "id": "c06a825c",
   "metadata": {},
   "outputs": [
    {
     "name": "stdout",
     "output_type": "stream",
     "text": [
      "dict_keys(['apple', 'banana', 'cherry']) dict_values([100, 200, 300]) dict_items([('apple', 100), ('banana', 200), ('cherry', 300)])\n"
     ]
    }
   ],
   "source": [
    "fruit_prices = {\"apple\": 100, \"banana\": 200, \"cherry\": 300}\n",
    "print(fruit_prices.keys(), fruit_prices.values(), fruit_prices.items())"
   ]
  },
  {
   "cell_type": "code",
   "execution_count": 95,
   "id": "699ac1b2",
   "metadata": {},
   "outputs": [
    {
     "name": "stdout",
     "output_type": "stream",
     "text": [
      "True\n",
      "False\n"
     ]
    }
   ],
   "source": [
    "fruit_prices = {\"apple\": 100, \"banana\": 200}\n",
    "print(\"apple\" in fruit_prices)  # True\n",
    "print(\"grape\" in fruit_prices)  # False"
   ]
  },
  {
   "cell_type": "code",
   "execution_count": 96,
   "id": "87f0dd1c",
   "metadata": {},
   "outputs": [
    {
     "name": "stdout",
     "output_type": "stream",
     "text": [
      "Hello, Python!\n",
      "123\n",
      "testnext line\n"
     ]
    }
   ],
   "source": [
    "print(\"Hello, Python!\")   # Hello, Python!\n",
    "print(123)                # 123\n",
    "print(\"test\", end=\"\")     # test（改行なし）\n",
    "print(\"next line\")        # next line"
   ]
  },
  {
   "cell_type": "code",
   "execution_count": 97,
   "id": "79cdf1c7",
   "metadata": {},
   "outputs": [
    {
     "name": "stdout",
     "output_type": "stream",
     "text": [
      "6\n",
      "4\n"
     ]
    }
   ],
   "source": [
    "print(len(\"Python\"))      # 6（文字列の長さ）\n",
    "print(len([1, 2, 3, 4]))  # 4（リストの要素数）"
   ]
  },
  {
   "cell_type": "code",
   "execution_count": 98,
   "id": "f5b95644",
   "metadata": {},
   "outputs": [
    {
     "name": "stdout",
     "output_type": "stream",
     "text": [
      "<class 'int'>\n",
      "<class 'str'>\n",
      "<class 'list'>\n"
     ]
    }
   ],
   "source": [
    "print(type(123))          # <class 'int'>\n",
    "print(type(\"Python\"))     # <class 'str'>\n",
    "print(type([1, 2, 3]))    # <class 'list'>"
   ]
  },
  {
   "cell_type": "code",
   "execution_count": 99,
   "id": "82afc93e",
   "metadata": {},
   "outputs": [
    {
     "name": "stdout",
     "output_type": "stream",
     "text": [
      "20\n",
      "1\n"
     ]
    }
   ],
   "source": [
    "print(max(5, 10, 20))     # 20\n",
    "print(min([1, 2, 3, 4]))  # 1"
   ]
  },
  {
   "cell_type": "code",
   "execution_count": 100,
   "id": "8bbd3346",
   "metadata": {},
   "outputs": [
    {
     "name": "stdout",
     "output_type": "stream",
     "text": [
      "10\n",
      "60\n"
     ]
    }
   ],
   "source": [
    "print(sum([1, 2, 3, 4]))  # 10\n",
    "print(sum((10, 20, 30)))  # 60"
   ]
  },
  {
   "cell_type": "code",
   "execution_count": 101,
   "id": "f8eed6e3",
   "metadata": {},
   "outputs": [
    {
     "name": "stdout",
     "output_type": "stream",
     "text": [
      "0\n",
      "1\n",
      "2\n",
      "3\n",
      "4\n",
      "[1, 3, 5, 7, 9]\n"
     ]
    }
   ],
   "source": [
    "for i in range(5):\n",
    "    print(i)              # 0, 1, 2, 3, 4\n",
    "\n",
    "print(list(range(1, 10, 2)))  # [1, 3, 5, 7, 9]"
   ]
  },
  {
   "cell_type": "code",
   "execution_count": 102,
   "id": "c07fa38f",
   "metadata": {},
   "outputs": [
    {
     "name": "stdout",
     "output_type": "stream",
     "text": [
      "「にんてんどううどんてんに」は回文です！\n"
     ]
    }
   ],
   "source": [
    "def is_palindrome(s):\n",
    "    if s == s[::-1]:\n",
    "        print(f\"「{s}」は回文です！\")\n",
    "    else:\n",
    "        print(f\"「{s}」は回文ではないです。\")\n",
    "\n",
    "is_palindrome(\"にんてんどううどんてんに\")"
   ]
  },
  {
   "cell_type": "code",
   "execution_count": 109,
   "id": "d019333d",
   "metadata": {},
   "outputs": [
    {
     "name": "stdout",
     "output_type": "stream",
     "text": [
      "こんにちは、太郎さん！\n"
     ]
    }
   ],
   "source": [
    "def greet(name):\n",
    "    print(f\"こんにちは、{name}さん！\")\n",
    "\n",
    "greet(\"太郎\")"
   ]
  },
  {
   "cell_type": "code",
   "execution_count": 110,
   "id": "191f1ba7",
   "metadata": {},
   "outputs": [
    {
     "name": "stdout",
     "output_type": "stream",
     "text": [
      "こんにちは、花子さん！ 年齢は25歳ですね。\n"
     ]
    }
   ],
   "source": [
    "def introduce(name, age):\n",
    "    print(f\"こんにちは、{name}さん！ 年齢は{age}歳ですね。\")\n",
    "\n",
    "introduce(\"花子\", 25)"
   ]
  },
  {
   "cell_type": "code",
   "execution_count": 111,
   "id": "7d7394a5",
   "metadata": {},
   "outputs": [
    {
     "name": "stdout",
     "output_type": "stream",
     "text": [
      "こんにちは、太郎さん！ 年齢は18歳ですね。\n"
     ]
    }
   ],
   "source": [
    "def introduce(name, age=18):\n",
    "    print(f\"こんにちは、{name}さん！ 年齢は{age}歳ですね。\")\n",
    "\n",
    "introduce(\"太郎\")"
   ]
  },
  {
   "cell_type": "code",
   "execution_count": 112,
   "id": "fa064c20",
   "metadata": {},
   "outputs": [
    {
     "name": "stdout",
     "output_type": "stream",
     "text": [
      "合計: 10\n"
     ]
    }
   ],
   "source": [
    "def add(*args):\n",
    "    print(\"合計:\", sum(args))\n",
    "\n",
    "add(1, 2, 3, 4)"
   ]
  },
  {
   "cell_type": "code",
   "execution_count": 113,
   "id": "e191a50e",
   "metadata": {},
   "outputs": [
    {
     "name": "stdout",
     "output_type": "stream",
     "text": [
      "8\n"
     ]
    }
   ],
   "source": [
    "def add(a, b):\n",
    "    return a + b\n",
    "\n",
    "result = add(3, 5)\n",
    "print(result)"
   ]
  },
  {
   "cell_type": "code",
   "execution_count": 114,
   "id": "ee3d312b",
   "metadata": {},
   "outputs": [
    {
     "name": "stdout",
     "output_type": "stream",
     "text": [
      "足し算: 7\n",
      "掛け算: 12\n"
     ]
    }
   ],
   "source": [
    "def calculate(a, b):\n",
    "    return a + b, a * b\n",
    "\n",
    "sum_result, product_result = calculate(3, 4)\n",
    "print(\"足し算:\", sum_result)\n",
    "print(\"掛け算:\", product_result)"
   ]
  },
  {
   "cell_type": "code",
   "execution_count": 115,
   "id": "15310ccf",
   "metadata": {},
   "outputs": [
    {
     "name": "stdout",
     "output_type": "stream",
     "text": [
      "4.0\n"
     ]
    }
   ],
   "source": [
    "import math\n",
    "print(math.sqrt(16))  # 4.0"
   ]
  },
  {
   "cell_type": "code",
   "execution_count": 116,
   "id": "33f04cd5",
   "metadata": {},
   "outputs": [
    {
     "name": "stdout",
     "output_type": "stream",
     "text": [
      "現在の日時: 2025-04-14 13:22:16.598687\n"
     ]
    }
   ],
   "source": [
    "import datetime as dt\n",
    "now = dt.datetime.now()\n",
    "print(\"現在の日時:\", now)"
   ]
  },
  {
   "cell_type": "code",
   "execution_count": 117,
   "id": "5e6131fd",
   "metadata": {},
   "outputs": [
    {
     "name": "stdout",
     "output_type": "stream",
     "text": [
      "4.0\n",
      "3.141592653589793\n"
     ]
    }
   ],
   "source": [
    "from math import sqrt\n",
    "print(sqrt(16))  # 4.0\n",
    "\n",
    "from math import sqrt, pi\n",
    "print(pi)        # 3.141592653589793"
   ]
  },
  {
   "cell_type": "code",
   "execution_count": 118,
   "id": "9449e3f7",
   "metadata": {},
   "outputs": [],
   "source": [
    "from math import *"
   ]
  },
  {
   "cell_type": "code",
   "execution_count": 119,
   "id": "2d57b07b",
   "metadata": {},
   "outputs": [
    {
     "name": "stdout",
     "output_type": "stream",
     "text": [
      "5.0\n",
      "2.718281828459045\n",
      "3.141592653589793\n"
     ]
    }
   ],
   "source": [
    "import math\n",
    "\n",
    "print(math.sqrt(25))  # 5.0\n",
    "print(math.exp(1))    # 2.718281828459045\n",
    "print(math.pi)        # 3.141592653589793"
   ]
  },
  {
   "cell_type": "code",
   "execution_count": 125,
   "id": "e83f7e74",
   "metadata": {},
   "outputs": [
    {
     "name": "stdout",
     "output_type": "stream",
     "text": [
      "2025-04-14 13:27:21.823530\n",
      "1995-05-17 00:00:00\n",
      "365\n"
     ]
    }
   ],
   "source": [
    "import datetime\n",
    "\n",
    "now = datetime.datetime.now()\n",
    "print(now)\n",
    "\n",
    "birthday = datetime.datetime(1995, 5, 17)\n",
    "print(birthday)\n",
    "\n",
    "date1 = datetime.datetime(2023, 1, 1)\n",
    "date2 = datetime.datetime(2024, 1, 1)\n",
    "print((date2 - date1).days)  # 日数差"
   ]
  },
  {
   "cell_type": "code",
   "execution_count": 127,
   "id": "08e441ef",
   "metadata": {},
   "outputs": [
    {
     "name": "stdout",
     "output_type": "stream",
     "text": [
      "10\n",
      "[3, 2, 4, 1, 5]\n",
      "2\n"
     ]
    }
   ],
   "source": [
    "import random\n",
    "\n",
    "print(random.randint(1, 10))  # 1〜10のランダムな整数\n",
    "my_list = [1, 2, 3, 4, 5]\n",
    "random.shuffle(my_list)       # リストをランダムに並び替え\n",
    "print(my_list)\n",
    "print(random.choice(my_list)) # ランダムな要素を1つ選択"
   ]
  },
  {
   "cell_type": "code",
   "execution_count": 128,
   "id": "2622c7f2",
   "metadata": {},
   "outputs": [
    {
     "name": "stdout",
     "output_type": "stream",
     "text": [
      "c:\\Users\\hotaka.fujita\\Downloads\\sample\\05_programming\n",
      "False\n"
     ]
    }
   ],
   "source": [
    "import os\n",
    "\n",
    "print(os.getcwd())         # 現在の作業ディレクトリを取得\n",
    "os.mkdir(\"new_folder\")     # 新しいフォルダを作成\n",
    "print(os.path.exists(\"example.txt\"))  # ファイルやフォルダの存在確認"
   ]
  },
  {
   "cell_type": "code",
   "execution_count": 129,
   "id": "5500d125",
   "metadata": {},
   "outputs": [
    {
     "name": "stdout",
     "output_type": "stream",
     "text": [
      "<!DOCTYPE html><html  lang=\"ja\" data-theme=\"techacademy\" data-capo=\"\"><head><meta charset=\"utf-8\">\n",
      "<meta name=\"viewport\" content=\"width=device-width, initial-scale=1\">\n",
      "<title>プログラミングスクール | 受講者数No.1のテックアカデミー</title>\n",
      "<link rel=\"preconnect\" href=\"https://fonts.googleapis.com\">\n",
      "<link rel=\"preconnect\" href=\"https://fonts.gstatic.com\" crossorigin>\n",
      "<script src=\"https://www.googletagmanager.com/gtag/js?id=AW-1006744060\" async data-hid=\"92ebc66\"></script>\n",
      "<script src=\"//static.criteo.net/js/ld/ld.js\" asy\n"
     ]
    }
   ],
   "source": [
    "import urllib.request\n",
    "\n",
    "url = \"https://techacademy.jp\"\n",
    "response = urllib.request.urlopen(url)\n",
    "html = response.read().decode(\"utf-8\")\n",
    "print(html[:500])  # 最初の500文字を表示"
   ]
  },
  {
   "cell_type": "code",
   "execution_count": null,
   "id": "31925e05",
   "metadata": {},
   "outputs": [
    {
     "name": "stdout",
     "output_type": "stream",
     "text": [
      "送料は無料です\n",
      "送料込税込価格は2200円です\n"
     ]
    }
   ],
   "source": [
    "# [A]: 「税抜価格」をユーザーから取得し、数値に変換する\n",
    "tax_excluded_price = int(input(\"税抜価格を入力してください: \"))\n",
    "\n",
    "# [B]: 「税込価格」を計算する（消費税率は10%）\n",
    "tax_rate = 0.10\n",
    "tax_included_price = tax_excluded_price * (1+tax_rate)\n",
    "\n",
    "# [C]、[D]: 送料の計算（2000円以上かどうかを判定して分岐する）\n",
    "if tax_included_price >= 2000:\n",
    "    shipping_cost = 0\n",
    "    print(\"送料は無料です\")\n",
    "elif tax_included_price < 2000:\n",
    "    shipping_cost = 350\n",
    "    print(f\"送料は{shipping_cost}円です\")\n",
    "\n",
    "# [E]: 送料込税込価格を計算して、変数に代入する\n",
    "total_price = tax_included_price + shipping_cost\n",
    "\n",
    "# 「送料込税込価格」を少数を含めずに出力する\n",
    "print(f\"送料込税込価格は{total_price:.0f}円です\")   #:.0f <- 整数表示"
   ]
  },
  {
   "cell_type": "code",
   "execution_count": null,
   "id": "2d1d09a6",
   "metadata": {},
   "outputs": [],
   "source": []
  }
 ],
 "metadata": {
  "kernelspec": {
   "display_name": ".venv",
   "language": "python",
   "name": "python3"
  },
  "language_info": {
   "codemirror_mode": {
    "name": "ipython",
    "version": 3
   },
   "file_extension": ".py",
   "mimetype": "text/x-python",
   "name": "python",
   "nbconvert_exporter": "python",
   "pygments_lexer": "ipython3",
   "version": "3.12.7"
  }
 },
 "nbformat": 4,
 "nbformat_minor": 5
}
