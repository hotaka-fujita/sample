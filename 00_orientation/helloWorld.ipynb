{
 "cells": [
  {
   "cell_type": "code",
   "execution_count": 3,
   "id": "ac366534",
   "metadata": {},
   "outputs": [
    {
     "name": "stdout",
     "output_type": "stream",
     "text": [
      "Hello! World!\n"
     ]
    }
   ],
   "source": [
    "print(\"Hello! World!\")\n"
   ]
  },
  {
   "cell_type": "code",
   "execution_count": 2,
   "id": "fdc301ea",
   "metadata": {},
   "outputs": [
    {
     "name": "stdout",
     "output_type": "stream",
     "text": [
      "開発を行ないます！\n"
     ]
    }
   ],
   "source": [
    "print(\"開発を行ないます！\")"
   ]
  },
  {
   "cell_type": "markdown",
   "id": "4f62ed01",
   "metadata": {},
   "source": [
    "# レッスン 0\n",
    "- VS Codeの基本的な書き方\n",
    "---\n",
    "| 見出し1 | 見出し2 |\n",
    "| ------- | ------- |\n",
    "| データ1 | データ2 |\n",
    "| データ3 | データ4 |\n",
    "1. 項目1\n",
    "2. 項目2\n",
    "\n",
    "- 項目1\n",
    "- 項目2\n",
    "  - サブ項目"
   ]
  },
  {
   "cell_type": "markdown",
   "id": "38d2475a",
   "metadata": {},
   "source": []
  }
 ],
 "metadata": {
  "kernelspec": {
   "display_name": ".venv",
   "language": "python",
   "name": "python3"
  },
  "language_info": {
   "codemirror_mode": {
    "name": "ipython",
    "version": 3
   },
   "file_extension": ".py",
   "mimetype": "text/x-python",
   "name": "python",
   "nbconvert_exporter": "python",
   "pygments_lexer": "ipython3",
   "version": "3.12.7"
  }
 },
 "nbformat": 4,
 "nbformat_minor": 5
}
